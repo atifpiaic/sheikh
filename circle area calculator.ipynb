{
 "cells": [
  {
   "cell_type": "markdown",
   "metadata": {},
   "source": [
    "# Write a Python program which accepts the radius of a circle from the user and compute the area.\n",
    "### Program Console Sample Output 1:\n",
    "### Input Radius: 0.5\n",
    "### Area of Circle with radius 0.5 is 0.7853981634 "
   ]
  },
  {
   "cell_type": "markdown",
   "metadata": {},
   "source": [
    "# 1. Calculate Area of a Circle"
   ]
  },
  {
   "cell_type": "code",
   "execution_count": 4,
   "metadata": {},
   "outputs": [
    {
     "name": "stdout",
     "output_type": "stream",
     "text": [
      "Enter the radius of a circle0.5\n",
      "Area of Circle with radius 0.5 is 0.7855\n"
     ]
    }
   ],
   "source": [
    "radius = float(input(\"Enter the radius of a circle\"))  #float is use for decimal\n",
    "pi = 3.142  #pi-pie = Constant value\n",
    "area = pi * (radius ** 2)  #formula of area  \n",
    "print(\"Area of Circle with radius \" + str(radius) + \" is \" + str(area))"
   ]
  },
  {
   "cell_type": "code",
   "execution_count": null,
   "metadata": {},
   "outputs": [],
   "source": []
  }
 ],
 "metadata": {
  "kernelspec": {
   "display_name": "Python 2",
   "language": "python",
   "name": "python2"
  },
  "language_info": {
   "codemirror_mode": {
    "name": "ipython",
    "version": 2
   },
   "file_extension": ".py",
   "mimetype": "text/x-python",
   "name": "python",
   "nbconvert_exporter": "python",
   "pygments_lexer": "ipython2",
   "version": "2.7.16"
  }
 },
 "nbformat": 4,
 "nbformat_minor": 2
}
